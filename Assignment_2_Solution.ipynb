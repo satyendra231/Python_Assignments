{
 "cells": [
  {
   "attachments": {},
   "cell_type": "markdown",
   "metadata": {},
   "source": [
    "### Question - 1 "
   ]
  },
  {
   "attachments": {},
   "cell_type": "markdown",
   "metadata": {},
   "source": [
    "The two boolean values are TRUE and FALSE. \n",
    "we can write them using TRUE and FALSE or using 0 and 1."
   ]
  },
  {
   "cell_type": "code",
   "execution_count": 1,
   "metadata": {},
   "outputs": [
    {
     "name": "stdout",
     "output_type": "stream",
     "text": [
      "True False\n"
     ]
    }
   ],
   "source": [
    "a = True\n",
    "b = False\n",
    "print(a, b)"
   ]
  },
  {
   "attachments": {},
   "cell_type": "markdown",
   "metadata": {},
   "source": [
    "### Question - 2"
   ]
  },
  {
   "attachments": {},
   "cell_type": "markdown",
   "metadata": {},
   "source": [
    "Those three boolean operators are - \n",
    "1. and \n",
    "2. or\n",
    "3. not"
   ]
  },
  {
   "attachments": {},
   "cell_type": "markdown",
   "metadata": {},
   "source": [
    "### Question - 3"
   ]
  },
  {
   "cell_type": "code",
   "execution_count": 11,
   "metadata": {},
   "outputs": [
    {
     "name": "stdout",
     "output_type": "stream",
     "text": [
      "Truth Table for :-\n",
      "list_a - [0, 0, 1, 1]\n",
      "list_b - [0, 1, 0, 1]\n",
      "list_c - [0, 1]\n",
      "\n",
      "AND Truth Table - [0, 0, 0, 1]\n",
      "OR Truth Table - [0, 1, 1, 1]\n",
      "NOT Truth Table - [1, 0]\n"
     ]
    }
   ],
   "source": [
    "list_a = [0,0,1,1]\n",
    "list_b = [0,1,0,1]\n",
    "list_c = [0, 1]\n",
    "list_and = []\n",
    "list_or = []\n",
    "list_not = []\n",
    "\n",
    "for n in range(0,4):\n",
    "    list_and.append(list_a[n] and list_b[n])\n",
    "    list_or.append(list_a[n] or list_b[n])\n",
    "    if n == 0 or n == 1:\n",
    "        list_not.append(int(not list_c[n]))\n",
    "\n",
    "print(f\"Truth Table for :-\\nlist_a - {list_a}\\nlist_b - {list_b}\\nlist_c - {list_c}\\n\")\n",
    "print(f\"AND Truth Table - {list_and}\\nOR Truth Table - {list_or}\\nNOT Truth Table - {list_not}\")\n"
   ]
  },
  {
   "attachments": {},
   "cell_type": "markdown",
   "metadata": {},
   "source": [
    "### Question - 4"
   ]
  },
  {
   "attachments": {},
   "cell_type": "markdown",
   "metadata": {},
   "source": [
    "(5 > 4) and (3 == 5)                    # False <br>\n",
    "not (5 > 4)                             # False <br>\n",
    "(5 > 4) or (3 == 5)                     # True <br>\n",
    "not ((5 > 4) or (3 == 5))               # False <br>\n",
    "(True and True) and (True == False)     # False <br>\n",
    "(not False) or (not True)               # True"
   ]
  },
  {
   "attachments": {},
   "cell_type": "markdown",
   "metadata": {},
   "source": [
    "### Question - 5 "
   ]
  },
  {
   "attachments": {},
   "cell_type": "markdown",
   "metadata": {},
   "source": [
    "Six comparison operators are - <br>\n",
    "a. < <br>\n",
    "b. > <br>\n",
    "c. <= <br>\n",
    "d. >= <br>\n",
    "e. == <br>\n",
    "f. != "
   ]
  },
  {
   "attachments": {},
   "cell_type": "markdown",
   "metadata": {},
   "source": [
    "### Question - 6\n"
   ]
  },
  {
   "attachments": {},
   "cell_type": "markdown",
   "metadata": {},
   "source": [
    "In the cenario of using == operator means we are comparing value and will get the result in TRUE or FALSE, <br>\n",
    "but in assignment operator we assign right side value to left side varible. <br>\n",
    "eg. <br>\n",
    "Equal to =>   if 5 == type(int) <br>\n",
    "Assignment =>  x = 7"
   ]
  },
  {
   "attachments": {},
   "cell_type": "markdown",
   "metadata": {},
   "source": [
    "### Question - 7"
   ]
  },
  {
   "cell_type": "code",
   "execution_count": 13,
   "metadata": {},
   "outputs": [
    {
     "name": "stdout",
     "output_type": "stream",
     "text": [
      "ham\n",
      "spam\n",
      "spam\n"
     ]
    }
   ],
   "source": [
    "spam = 0\n",
    "if spam == 10:\n",
    "    print('eggs')\n",
    "if spam > 5:\n",
    "    print('bacon')\n",
    "else:\n",
    "    print('ham')\n",
    "    print('spam')\n",
    "    print('spam')\n"
   ]
  },
  {
   "attachments": {},
   "cell_type": "markdown",
   "metadata": {},
   "source": [
    "### Question - 8 "
   ]
  },
  {
   "cell_type": "code",
   "execution_count": 16,
   "metadata": {},
   "outputs": [
    {
     "name": "stdout",
     "output_type": "stream",
     "text": [
      "Greetings!\n"
     ]
    }
   ],
   "source": [
    "spam = int(input(\"Enter Value : \"))\n",
    "if spam == 1:\n",
    "    print(\"Hello\")\n",
    "elif spam == 2:\n",
    "    print(\"Howdy\")\n",
    "else:\n",
    "    print(\"Greetings!\")"
   ]
  },
  {
   "attachments": {},
   "cell_type": "markdown",
   "metadata": {},
   "source": [
    "### Question - 9\n"
   ]
  },
  {
   "attachments": {},
   "cell_type": "markdown",
   "metadata": {},
   "source": [
    "In google collab keys are - Ctrl + M + I <br>\n",
    "In my vs code keys are - Shift + / + ."
   ]
  },
  {
   "attachments": {},
   "cell_type": "markdown",
   "metadata": {},
   "source": [
    "### Question - 10"
   ]
  },
  {
   "attachments": {},
   "cell_type": "markdown",
   "metadata": {},
   "source": [
    "break - break keyword stops the loop. And Jump out from loop <br>\n",
    "continue - continue keyword start the loop again. "
   ]
  },
  {
   "attachments": {},
   "cell_type": "markdown",
   "metadata": {},
   "source": [
    "### Question - 11"
   ]
  },
  {
   "attachments": {},
   "cell_type": "markdown",
   "metadata": {},
   "source": [
    "range(10) - loop will start from 0 and go till 9. <br>\n",
    "range(0,10) - loop will start from 0 and go till 9. <br>\n",
    "range(0,10,1) - loop will start from 0 and go till 9 with step of one."
   ]
  },
  {
   "attachments": {},
   "cell_type": "markdown",
   "metadata": {},
   "source": [
    "### Question - 12"
   ]
  },
  {
   "cell_type": "code",
   "execution_count": 7,
   "metadata": {},
   "outputs": [
    {
     "name": "stdout",
     "output_type": "stream",
     "text": [
      "1\n",
      "2\n",
      "3\n",
      "4\n",
      "5\n",
      "6\n",
      "7\n",
      "8\n",
      "9\n",
      "10\n",
      "\n",
      "\n",
      "1\n",
      "2\n",
      "3\n",
      "4\n",
      "5\n",
      "6\n",
      "7\n",
      "8\n",
      "9\n",
      "10\n"
     ]
    }
   ],
   "source": [
    "for i in range(1, 11):\n",
    "    print(i)\n",
    "\n",
    "k = 1\n",
    "while k<=10:\n",
    "    print(k)\n",
    "    k+=1"
   ]
  },
  {
   "attachments": {},
   "cell_type": "markdown",
   "metadata": {},
   "source": [
    "### Question - 13\n"
   ]
  },
  {
   "cell_type": "code",
   "execution_count": null,
   "metadata": {},
   "outputs": [],
   "source": [
    "spam.bacon()"
   ]
  }
 ],
 "metadata": {
  "kernelspec": {
   "display_name": "base",
   "language": "python",
   "name": "python3"
  },
  "language_info": {
   "codemirror_mode": {
    "name": "ipython",
    "version": 3
   },
   "file_extension": ".py",
   "mimetype": "text/x-python",
   "name": "python",
   "nbconvert_exporter": "python",
   "pygments_lexer": "ipython3",
   "version": "3.9.13"
  },
  "orig_nbformat": 4,
  "vscode": {
   "interpreter": {
    "hash": "20a9e06a1eee47c4abbed4ec8225ad91d78d9800d202b71b6b0a6e47016c6abd"
   }
  }
 },
 "nbformat": 4,
 "nbformat_minor": 2
}
