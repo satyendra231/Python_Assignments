{
 "cells": [
  {
   "attachments": {},
   "cell_type": "markdown",
   "metadata": {},
   "source": [
    "### Question - 1"
   ]
  },
  {
   "cell_type": "code",
   "execution_count": 4,
   "metadata": {},
   "outputs": [
    {
     "name": "stdout",
     "output_type": "stream",
     "text": [
      "* is an expression\n",
      "hello is a value\n",
      "-87.8 is a value\n",
      "- is an expression\n",
      "/ is an expression\n",
      "+ is an expression\n",
      "6 is a value\n"
     ]
    }
   ],
   "source": [
    "elements = ['*', 'hello', -87.8, '-', '/', '+', 6]\n",
    "math_operator = ['+', '-', '/', '*']\n",
    "\n",
    "for ele in elements:\n",
    "    if ele in math_operator:\n",
    "        print(f\"{ele} is an expression\")\n",
    "    else:\n",
    "        if type(ele) == str or type(ele) == int or type(ele) == float:\n",
    "            print(f\"{ele} is a value\") \n",
    "\n"
   ]
  },
  {
   "attachments": {},
   "cell_type": "markdown",
   "metadata": {},
   "source": [
    "### Question - 2 \n",
    "\n",
    "Difference Between String and Variable\n",
    "\n",
    "String - String is a one or group of characters, that we define between quotes ''. It may any alphabates, numbers, special characters or alphanumeric. In python there is also one datatype named String and we define string using '' and can change datatype of any value using str().\n",
    "\n",
    "Variable - Variable is a container that holds value of any object. Object may numeric, string, alphanumeric. We can assign any value to varible also we can change the value of variable. eg. var_a = 9, here 9 is value and var_a is a container that hold 9. "
   ]
  },
  {
   "attachments": {},
   "cell_type": "markdown",
   "metadata": {},
   "source": [
    "### Question - 3"
   ]
  },
  {
   "attachments": {},
   "cell_type": "markdown",
   "metadata": {},
   "source": [
    "Python has three datatypes - \n",
    "1. int - It holds an interger value. eg var_a = 3, here 3 is an integer value. also we can check type of 3 using type(var_a), it belongs to <class 'int'>\n",
    "2. float - It holds a float value. eg var_b = 5.2, here 5.2 is a float value. we can check type of 5.2 using type(var_b), it belongs to <class 'float'> \n",
    "3. str - It holds a string value that we define between quotes ''. eg var_c = 'hello world !', here the value of var_c is string and we can check datatype using type(var_c), it belongs to <class 'str'>\n",
    "\n"
   ]
  },
  {
   "attachments": {},
   "cell_type": "markdown",
   "metadata": {},
   "source": [
    "### Question - 4\n",
    "\n",
    "Expression - In general we can call any values or equation as an expression if it is having both the left hand side and right hand side value. And it evaluates value by solving expression.\n",
    "eg. \n",
    "5x + 3 = 13   \n"
   ]
  },
  {
   "attachments": {},
   "cell_type": "markdown",
   "metadata": {},
   "source": [
    "### Question - 5\n",
    "\n",
    "Expression - In general we can call any values or equation as an expression if it is having both the left hand side and right hand side value. And it evaluates value by solving expression.\n",
    "eg. \n",
    "5x + 3 = 13   \n",
    "\n",
    "Statement = Statement is to assign a value to a varible, Statements help us to evaluate expression. \n",
    "eg.\n",
    "x = 2"
   ]
  },
  {
   "attachments": {},
   "cell_type": "markdown",
   "metadata": {},
   "source": [
    "### Question - 6"
   ]
  },
  {
   "cell_type": "code",
   "execution_count": 5,
   "metadata": {},
   "outputs": [
    {
     "data": {
      "text/plain": [
       "23"
      ]
     },
     "execution_count": 5,
     "metadata": {},
     "output_type": "execute_result"
    }
   ],
   "source": [
    "bacon = 22\n",
    "bacon + 1"
   ]
  },
  {
   "attachments": {},
   "cell_type": "markdown",
   "metadata": {},
   "source": [
    "### Question - 7"
   ]
  },
  {
   "cell_type": "code",
   "execution_count": 6,
   "metadata": {},
   "outputs": [
    {
     "data": {
      "text/plain": [
       "'spamspamspam'"
      ]
     },
     "execution_count": 6,
     "metadata": {},
     "output_type": "execute_result"
    }
   ],
   "source": [
    "'spam' + 'spamspam'  #concatenate strings"
   ]
  },
  {
   "cell_type": "code",
   "execution_count": 7,
   "metadata": {},
   "outputs": [
    {
     "data": {
      "text/plain": [
       "'spamspamspam'"
      ]
     },
     "execution_count": 7,
     "metadata": {},
     "output_type": "execute_result"
    }
   ],
   "source": [
    "'spam' * 3 #multiply 3 times 'spam'"
   ]
  },
  {
   "attachments": {},
   "cell_type": "markdown",
   "metadata": {},
   "source": [
    "### Question - 8\n"
   ]
  },
  {
   "attachments": {},
   "cell_type": "markdown",
   "metadata": {},
   "source": [
    "Because in python variable declaration always starts with string or underscore, not starts from numbers or operaters.\n",
    "eg. \n",
    "var_a = 4 and\n",
    "_ = 2\n"
   ]
  },
  {
   "attachments": {},
   "cell_type": "markdown",
   "metadata": {},
   "source": [
    "### Question - 9"
   ]
  },
  {
   "attachments": {},
   "cell_type": "markdown",
   "metadata": {},
   "source": [
    "To get integer value we will use int().\n",
    "To get float value we will use float().\n",
    "To get string value we will use str().\n",
    "\n",
    "All these typecast the value."
   ]
  },
  {
   "attachments": {},
   "cell_type": "markdown",
   "metadata": {},
   "source": [
    "### Question - 10"
   ]
  },
  {
   "cell_type": "code",
   "execution_count": 11,
   "metadata": {},
   "outputs": [
    {
     "data": {
      "text/plain": [
       "'I have eaten 99 burritos.'"
      ]
     },
     "execution_count": 11,
     "metadata": {},
     "output_type": "execute_result"
    }
   ],
   "source": [
    "# 'I have eaten ' + 99 + ' burritos.'\n",
    "# Concatenation perform on strings.\n",
    " \n",
    "# Answer should be\n",
    "'I have eaten ' + '99' + ' burritos.'\n"
   ]
  }
 ],
 "metadata": {
  "kernelspec": {
   "display_name": "base",
   "language": "python",
   "name": "python3"
  },
  "language_info": {
   "codemirror_mode": {
    "name": "ipython",
    "version": 3
   },
   "file_extension": ".py",
   "mimetype": "text/x-python",
   "name": "python",
   "nbconvert_exporter": "python",
   "pygments_lexer": "ipython3",
   "version": "3.9.13"
  },
  "orig_nbformat": 4,
  "vscode": {
   "interpreter": {
    "hash": "20a9e06a1eee47c4abbed4ec8225ad91d78d9800d202b71b6b0a6e47016c6abd"
   }
  }
 },
 "nbformat": 4,
 "nbformat_minor": 2
}
